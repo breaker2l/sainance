{
 "cells": [
  {
   "cell_type": "code",
   "execution_count": 1,
   "metadata": {},
   "outputs": [],
   "source": [
    "#web scraping\n",
    "import re\n",
    "from bs4 import BeautifulSoup\n",
    "import requests\n",
    "#connector\n",
    "import mysql.connector\n",
    "import sqlalchemy\n",
    "import pymysql\n",
    "#data analysis\n",
    "import pandas as pd\n",
    "import numpy as np\n",
    "#processing\n",
    "from sklearn import preprocessing\n",
    "from sklearn.model_selection import train_test_split\n",
    "from sklearn import linear_model\n",
    "from sklearn.metrics import mean_squared_error, r2_score\n",
    "#visualisation\n",
    "import seaborn as sns\n",
    "import matplotlib.pyplot as plt"
   ]
  },
  {
   "cell_type": "code",
   "execution_count": null,
   "metadata": {},
   "outputs": [],
   "source": [
    "engine = sqlalchemy.create_engine('mysql+pymysql://root:@localhost:3306/application')"
   ]
  },
  {
   "cell_type": "code",
   "execution_count": null,
   "metadata": {},
   "outputs": [],
   "source": []
  },
  {
   "cell_type": "code",
   "execution_count": null,
   "metadata": {},
   "outputs": [],
   "source": [
    "mydb = mysql.connector.connect(\n",
    "  host=\"localhost\",\n",
    "  user=\"root\",\n",
    "  passwd=\"\",\n",
    "  database = \"mydatabase\"\n",
    ")\n",
    "\n",
    "print(mydb)"
   ]
  },
  {
   "cell_type": "code",
   "execution_count": null,
   "metadata": {},
   "outputs": [],
   "source": [
    "mycursor = mydb.cursor()\n",
    "\n",
    "#mycursor.execute(\"CREATE DATABASE mydatabase\")\n",
    "mycursor.execute(\"SELECT * FROM companyis\")\n",
    "\n",
    "myresult = mycursor.fetchall()\n",
    "\n",
    "for x in myresult:\n",
    "    print(x)\n",
    "#mycursor.execute(\"SHOW TABLES\") #SHOW TABLES for tables\n",
    "#for x in mycursor:\n",
    "    #print(x)\n",
    "y = pd.DataFrame(myresult)\n",
    "y.columns = [\"ID\",\"Company\",\"Year\",\"Revenue\",\"cogs\",\"R&D\",\"Aipt\",\"sales and marketing\",\"GAA\",\"TotalExpenses\",\"OE\",\"NCI\",\"OI\",\"II\",\"GSOS\",\"GOE\",\"IBIT\",\"PFIT\",\"NI\",\"PSD\",\"IACS\",\"EPSB\",\"EPSD\"]"
   ]
  },
  {
   "cell_type": "code",
   "execution_count": null,
   "metadata": {},
   "outputs": [],
   "source": [
    "y.head()"
   ]
  },
  {
   "cell_type": "markdown",
   "metadata": {},
   "source": [
    "Rev - Revenue\n",
    "Cogs - cost of goods sold\n",
    "RandD - Research and Development\n",
    "=['ID','company','Year','Rev','Cogs','RandD','AIP','SAM','GAA','OE','NCI','OI','II','Gsos','IBIT','PIT','NI','Psd','NIACS','EPSB','EPSD']\n",
    ")"
   ]
  },
  {
   "cell_type": "code",
   "execution_count": null,
   "metadata": {},
   "outputs": [],
   "source": [
    "y.dtypes"
   ]
  },
  {
   "cell_type": "code",
   "execution_count": null,
   "metadata": {},
   "outputs": [],
   "source": [
    "y.shape"
   ]
  },
  {
   "cell_type": "code",
   "execution_count": null,
   "metadata": {},
   "outputs": [],
   "source": [
    "y.describe()"
   ]
  },
  {
   "cell_type": "code",
   "execution_count": null,
   "metadata": {},
   "outputs": [],
   "source": [
    "y.info()"
   ]
  },
  {
   "cell_type": "code",
   "execution_count": null,
   "metadata": {},
   "outputs": [],
   "source": [
    "y.isnull().sum()"
   ]
  },
  {
   "cell_type": "code",
   "execution_count": null,
   "metadata": {},
   "outputs": [],
   "source": [
    "missing_values = y.isnull()\n",
    "missing_values\n",
    "sns.heatmap(data = missing_values, cmap='viridis')"
   ]
  },
  {
   "cell_type": "code",
   "execution_count": null,
   "metadata": {},
   "outputs": [],
   "source": [
    "#droping columns\n",
    "y.drop(['ID','Company'], axis=1, inplace=True)\n",
    "y.head()\n"
   ]
  },
  {
   "cell_type": "code",
   "execution_count": null,
   "metadata": {},
   "outputs": [],
   "source": [
    "y.groupby([\"Revenue\"]).size().plot(kind=\"bar\",fontsize=14)"
   ]
  },
  {
   "cell_type": "code",
   "execution_count": null,
   "metadata": {},
   "outputs": [],
   "source": [
    "print(y['Revenue'].value_counts())\n",
    "sns.countplot(x=\"Revenue\", data=y)"
   ]
  },
  {
   "cell_type": "code",
   "execution_count": null,
   "metadata": {},
   "outputs": [],
   "source": [
    "y.groupby([\"cogs\"]).size().plot(kind=\"bar\",fontsize=14)"
   ]
  },
  {
   "cell_type": "code",
   "execution_count": null,
   "metadata": {},
   "outputs": [],
   "source": [
    "print(y['cogs'].value_counts())\n",
    "sns.countplot(x=\"cogs\", data=y,hue ='Revenue')"
   ]
  },
  {
   "cell_type": "code",
   "execution_count": null,
   "metadata": {},
   "outputs": [],
   "source": [
    "cogs = y['cogs'].hist(bins=max(y['cogs'])-min(y['cogs']))\n",
    "mean_val = np.mean(y['cogs'])\n",
    "plt.axvline(mean_val, linestyle='dashed', linewidth=2, color='yellow', label='mean age')\n",
    "plt.xlabel('cogs')\n",
    "plt.ylabel('count')\n",
    "plt.legend()\n",
    "plt.show()"
   ]
  },
  {
   "cell_type": "code",
   "execution_count": null,
   "metadata": {},
   "outputs": [],
   "source": [
    "#y.groupby([\"sales and marketing\"]).size().plot(kind=\"bar\",fontsize=14)\n",
    "sns.regplot(x=\"sales and marketing\", y=\"Revenue\", data=y);"
   ]
  },
  {
   "cell_type": "code",
   "execution_count": null,
   "metadata": {},
   "outputs": [],
   "source": [
    "print(y['sales and marketing'].value_counts())\n",
    "sns.countplot(x=\"sales and marketing\", data=y,hue ='Revenue')"
   ]
  },
  {
   "cell_type": "code",
   "execution_count": null,
   "metadata": {},
   "outputs": [],
   "source": [
    "y.groupby([\"R&D\"]).size().plot(kind=\"bar\",fontsize=14)"
   ]
  },
  {
   "cell_type": "code",
   "execution_count": null,
   "metadata": {
    "scrolled": true
   },
   "outputs": [],
   "source": [
    "print(y['R&D'].value_counts())\n",
    "sns.countplot(x=\"R&D\", data=y,hue ='Revenue')"
   ]
  },
  {
   "cell_type": "code",
   "execution_count": null,
   "metadata": {},
   "outputs": [],
   "source": [
    "y.groupby([\"Aipt\"]).size().plot(kind=\"bar\",fontsize=14)"
   ]
  },
  {
   "cell_type": "code",
   "execution_count": null,
   "metadata": {},
   "outputs": [],
   "source": [
    "print(y['Aipt'].value_counts())\n",
    "sns.countplot(x=\"Aipt\", data=y,hue ='Revenue')"
   ]
  },
  {
   "cell_type": "code",
   "execution_count": null,
   "metadata": {},
   "outputs": [],
   "source": [
    "y.groupby([\"GAA\"]).size().plot(kind=\"bar\",fontsize=14)"
   ]
  },
  {
   "cell_type": "code",
   "execution_count": null,
   "metadata": {},
   "outputs": [],
   "source": [
    "print(y['GAA'].value_counts())\n",
    "sns.countplot(x=\"GAA\", data=y,hue ='Revenue')"
   ]
  },
  {
   "cell_type": "code",
   "execution_count": null,
   "metadata": {},
   "outputs": [],
   "source": [
    "y.groupby([\"OE\"]).size().plot(kind=\"bar\",fontsize=14)"
   ]
  },
  {
   "cell_type": "code",
   "execution_count": null,
   "metadata": {},
   "outputs": [],
   "source": [
    "print(y['OE'].value_counts())\n",
    "sns.countplot(x=\"OE\", data=y,hue ='Revenue')"
   ]
  },
  {
   "cell_type": "code",
   "execution_count": null,
   "metadata": {},
   "outputs": [],
   "source": [
    "y.groupby([\"NCI\"]).size().plot(kind=\"bar\",fontsize=14)"
   ]
  },
  {
   "cell_type": "code",
   "execution_count": null,
   "metadata": {},
   "outputs": [],
   "source": [
    "print(y['NCI'].value_counts())\n",
    "sns.countplot(x=\"NCI\", data=y,hue ='Revenue')"
   ]
  },
  {
   "cell_type": "code",
   "execution_count": null,
   "metadata": {},
   "outputs": [],
   "source": [
    "y.groupby([\"OI\"]).size().plot(kind=\"bar\",fontsize=14)"
   ]
  },
  {
   "cell_type": "code",
   "execution_count": null,
   "metadata": {},
   "outputs": [],
   "source": [
    "print(y['OI'].value_counts())\n",
    "sns.countplot(x=\"OI\", data=y,hue ='Revenue')"
   ]
  },
  {
   "cell_type": "code",
   "execution_count": null,
   "metadata": {},
   "outputs": [],
   "source": [
    "y.groupby([\"II\"]).size().plot(kind=\"bar\",fontsize=14)"
   ]
  },
  {
   "cell_type": "code",
   "execution_count": null,
   "metadata": {},
   "outputs": [],
   "source": [
    "print(y['II'].value_counts())\n",
    "sns.countplot(x=\"II\", data=y,hue ='Revenue')"
   ]
  },
  {
   "cell_type": "code",
   "execution_count": null,
   "metadata": {},
   "outputs": [],
   "source": [
    "y.groupby([\"GSOS\"]).size().plot(kind=\"bar\",fontsize=14)"
   ]
  },
  {
   "cell_type": "code",
   "execution_count": null,
   "metadata": {},
   "outputs": [],
   "source": [
    "print(y['GSOS'].value_counts())\n",
    "sns.countplot(x=\"GSOS\", data=y,hue ='Revenue')"
   ]
  },
  {
   "cell_type": "code",
   "execution_count": null,
   "metadata": {},
   "outputs": [],
   "source": [
    "y.groupby([\"IBIT\"]).size().plot(kind=\"bar\",fontsize=14)"
   ]
  },
  {
   "cell_type": "code",
   "execution_count": null,
   "metadata": {},
   "outputs": [],
   "source": [
    "print(y['IBIT'].value_counts())\n",
    "sns.countplot(x=\"IBIT\", data=y,hue ='Revenue')"
   ]
  },
  {
   "cell_type": "code",
   "execution_count": null,
   "metadata": {},
   "outputs": [],
   "source": [
    "y.groupby([\"PFIT\"]).size().plot(kind=\"bar\",fontsize=14)"
   ]
  },
  {
   "cell_type": "code",
   "execution_count": null,
   "metadata": {},
   "outputs": [],
   "source": [
    "print(y['PFIT'].value_counts())\n",
    "sns.countplot(x=\"PFIT\", data=y,hue ='Revenue')"
   ]
  },
  {
   "cell_type": "code",
   "execution_count": null,
   "metadata": {},
   "outputs": [],
   "source": [
    "y.groupby([\"NI\"]).size().plot(kind=\"bar\",fontsize=14)"
   ]
  },
  {
   "cell_type": "code",
   "execution_count": null,
   "metadata": {},
   "outputs": [],
   "source": [
    "print(y['NI'].value_counts())\n",
    "sns.countplot(x=\"NI\", data=y,hue ='Revenue')"
   ]
  },
  {
   "cell_type": "code",
   "execution_count": null,
   "metadata": {},
   "outputs": [],
   "source": [
    "y.groupby([\"PSD\"]).size().plot(kind=\"bar\",fontsize=14)"
   ]
  },
  {
   "cell_type": "code",
   "execution_count": null,
   "metadata": {},
   "outputs": [],
   "source": [
    "print(y['PSD'].value_counts())\n",
    "sns.countplot(x=\"PSD\", data=y,hue ='Revenue')"
   ]
  },
  {
   "cell_type": "code",
   "execution_count": null,
   "metadata": {},
   "outputs": [],
   "source": [
    "y.groupby([\"IACS\"]).size().plot(kind=\"bar\",fontsize=14)"
   ]
  },
  {
   "cell_type": "code",
   "execution_count": null,
   "metadata": {},
   "outputs": [],
   "source": [
    "print(y['IACS'].value_counts())\n",
    "sns.countplot(x=\"IACS\", data=y,hue ='Revenue')"
   ]
  },
  {
   "cell_type": "code",
   "execution_count": null,
   "metadata": {},
   "outputs": [],
   "source": [
    "y.groupby([\"EPSB\"]).size().plot(kind=\"bar\",fontsize=14)"
   ]
  },
  {
   "cell_type": "code",
   "execution_count": null,
   "metadata": {},
   "outputs": [],
   "source": [
    "print(y['EPSB'].value_counts())\n",
    "sns.countplot(x=\"EPSB\", data=y,hue ='Revenue')"
   ]
  },
  {
   "cell_type": "code",
   "execution_count": null,
   "metadata": {},
   "outputs": [],
   "source": [
    "y.groupby([\"EPSD\"]).size().plot(kind=\"bar\",fontsize=14)"
   ]
  },
  {
   "cell_type": "code",
   "execution_count": null,
   "metadata": {},
   "outputs": [],
   "source": [
    "print(y['EPSD'].value_counts())\n",
    "sns.countplot(x=\"EPSD\", data=y,hue ='Revenue')"
   ]
  },
  {
   "cell_type": "code",
   "execution_count": null,
   "metadata": {},
   "outputs": [],
   "source": [
    "array = y.values\n",
    "X = array[:,0:8]\n",
    "Y = array[:,8]\n",
    "print(\"Original data:\")\n",
    "print(X[0:5,:])\n",
    "print(Y[0:5])"
   ]
  },
  {
   "cell_type": "code",
   "execution_count": null,
   "metadata": {},
   "outputs": [],
   "source": [
    "from sklearn.preprocessing import MinMaxScaler\n",
    "scaler = MinMaxScaler(feature_range=(0, 1))\n",
    "rescaledX = scaler.fit_transform(X)\n",
    "# summarize transformed data\n",
    "np.set_printoptions(precision=3)\n",
    "print(\"Rescaled data:\")\n",
    "print(rescaledX[0:5,:])"
   ]
  },
  {
   "cell_type": "code",
   "execution_count": null,
   "metadata": {},
   "outputs": [],
   "source": [
    "#standardize data\n",
    "from sklearn.preprocessing import StandardScaler\n",
    "scaler = StandardScaler()\n",
    "rescaledX = scaler.fit_transform(X)\n",
    "# summarize transformed data\n",
    "np.set_printoptions(precision=3)\n",
    "print(\"Rescaled data:\")\n",
    "print(rescaledX[0:5,:])"
   ]
  },
  {
   "cell_type": "code",
   "execution_count": null,
   "metadata": {},
   "outputs": [],
   "source": [
    "# Normalize data (length of 1)\n",
    "from sklearn.preprocessing import Normalizer\n",
    "scaler = Normalizer()\n",
    "normalizedX = scaler.fit_transform(X)\n",
    "# summarize transformed data\n",
    "np.set_printoptions(precision=3)\n",
    "print(\"Rescaled data:\")\n",
    "print(normalizedX[0:5,:])"
   ]
  },
  {
   "cell_type": "code",
   "execution_count": null,
   "metadata": {},
   "outputs": [],
   "source": [
    "# binarization\n",
    "from sklearn.preprocessing import Binarizer\n",
    "binarizer = Binarizer(threshold=0.0)\n",
    "binaryX = binarizer.fit_transform(X)\n",
    "# summarize transformed data\n",
    "np.set_printoptions(precision=3)\n",
    "print(\"Rescaled data:\")\n",
    "print(binaryX[0:5,:])"
   ]
  },
  {
   "cell_type": "code",
   "execution_count": null,
   "metadata": {},
   "outputs": [],
   "source": [
    "cogs_X = y[[\"cogs\"]]\n",
    "Revenue_y = y[[\"Revenue\"]]"
   ]
  },
  {
   "cell_type": "code",
   "execution_count": null,
   "metadata": {},
   "outputs": [],
   "source": [
    "# Split the data into training/testing sets\n",
    "\n",
    "X_train, X_test, y_train, y_test = train_test_split(cogs_X,Revenue_y,test_size=0.2,random_state=42 )"
   ]
  },
  {
   "cell_type": "code",
   "execution_count": null,
   "metadata": {},
   "outputs": [],
   "source": [
    "# Create linear regression object\n",
    "regr = linear_model.LinearRegression()\n",
    "\n",
    "# Train the model using the training sets\n",
    "regr.fit(X_train, y_train)\n",
    "\n",
    "# Make predictions using the testing set\n",
    "y_pred = regr.predict(X_test)\n",
    "\n",
    "# The coefficients\n",
    "print('Coefficients: \\n', regr.coef_)\n",
    "# The mean squared error\n",
    "print(f\"Mean squared error:{mean_squared_error(y_test, y_pred): .2f}\")\n",
    "print(f\"Root Mean squared error: {mean_squared_error(y_test, y_pred) :.2f}\")\n",
    "# Explained variance score: 1 is perfect prediction\n",
    "print(f'Variance score: {r2_score(y_test, y_pred):.2f}')"
   ]
  },
  {
   "cell_type": "code",
   "execution_count": 2,
   "metadata": {},
   "outputs": [],
   "source": [
    "URL = 'https://www.microsoft.com/investor/reports/ar99/income.htm'\n",
    "content = requests.get(URL)"
   ]
  },
  {
   "cell_type": "code",
   "execution_count": 3,
   "metadata": {},
   "outputs": [
    {
     "data": {
      "text/plain": [
       "<!--TOOLBAR_EXEMPT-->\n",
       "<!--TOOLBAR_EXEMPT-->\n",
       "<html>\n",
       "<head>\n",
       "<title>Microsoft 1999 Annual Report Income Statements</title>\n",
       "<meta content=\"Microsoft 1999 Annual Report income statements\" name=\"DESCRIPTION\"/>\n",
       "<meta content=\"EN-US\" name=\"MS.LOCALE\"/>\n",
       "<meta content=\"text/html; charset=utf-8\" http-equiv=\"Content-Type\"/>\n",
       "<meta content=\"us-ascii\" name=\"CHARSET\"/>\n",
       "<script language=\"JavaScript\">\n",
       "<!-- Hide the script from old browsers --\n",
       "\n",
       " function GoScriptMenu1(form) {\n",
       "        var myindex=form.menu1.selectedIndex\n",
       "        if (form.menu1.options[myindex].value != \"0\") {\n",
       "         location=form.menu1.options[myindex].value;}\n",
       "}\n",
       " function GoScriptMenu2(form) {\n",
       "        var myindex=form.menu2.selectedIndex\n",
       "        if (form.menu2.options[myindex].value != \"0\") {\n",
       "         location=form.menu2.options[myindex].value;}\n",
       "}\n",
       "//--></script>\n",
       "<script language=\"JavaScript\"><!--\n",
       "\n",
       "function turnOn() {\n",
       "\twhat = window.event.srcElement;\n",
       "\tif (what.tagName == \"IMG\") {\n",
       "\t\twhat.src = what.src.substring(0,(what.src.indexOf(\".jpg\"))) + \"on.jpg\";\n",
       "\t\twindow.event.cancelBubble = true;\n",
       "\t}\n",
       "}\n",
       "\n",
       "function turnOff () {\n",
       "\twhat = window.event.srcElement\n",
       "\tif (what.tagName == \"IMG\") {\n",
       "\t\twhat.src = what.src.substring(0,(what.src.indexOf(\"on.jpg\"))) + \".jpg\";\n",
       "\t\twindow.event.cancelBubble = true;\n",
       "\t}\n",
       "}\n",
       "//--></script>\n",
       "</head>\n",
       "<body alink=\"#003399\" bgcolor=\"#FFFFFF\" leftmargin=\"0\" link=\"#0099FF\" marginheight=\"0\" marginwidth=\"0\" text=\"#000000\" topmargin=\"0\" vlink=\"#99CCFF\">\n",
       "<form>\n",
       "<a name=\"top\"> </a>\n",
       "<table border=\"0\" cellpadding=\"0\" cellspacing=\"0\" height=\"29\" width=\"100%\">\n",
       "<tr>\n",
       "<td bgcolor=\"#66CC33\" height=\"29\" nowrap=\"\" width=\"390\"><a href=\"default.htm\"><img border=\"0\" height=\"29\" hspace=\"13\" src=\"images/msft_1999_title.gif\" width=\"280\"/></a></td>\n",
       "<td align=\"right\" bgcolor=\"#66CC33\"><img height=\"29\" src=\"images/title_gradient.gif\" width=\"154\"/></td>\n",
       "</tr>\n",
       "</table>\n",
       "<table border=\"0\" cellpadding=\"0\" cellspacing=\"0\" height=\"29\" width=\"100%\">\n",
       "<tr>\n",
       "<td bgcolor=\"#66CC33\" height=\"29\" nowrap=\"\" width=\"390\">  \n",
       "        <select name=\"menu2\" onchange=\"GoScriptMenu2(this.form)\" size=\"1\" style=\"background-color: #66CC33;font-family :  verdana,geneva,arial,sans-serif;font-size : 9pt;font-weight : normal; color : #0000000\">\n",
       "<option selected=\"\" value=\"#\">Read Financial Review</option>\n",
       "<option value=\"/Investor/reports/ar99/highlights.htm\">Financial Highlights</option>\n",
       "<option value=\"/Investor/reports/ar99/income.htm\">Income Statements</option>\n",
       "<option value=\"/Investor/reports/ar99/alternate.htm\">Alternate Views</option>\n",
       "<option value=\"/Investor/reports/ar99/mdna.htm\">Discussion and Analysis</option>\n",
       "<option value=\"/Investor/reports/ar99/cash.htm\">Cash Flows</option>\n",
       "<option value=\"/Investor/reports/ar99/balance.htm\">Balance Sheets</option>\n",
       "<option value=\"/Investor/reports/ar99/equity.htm\">Stockholders' Equity</option>\n",
       "<option value=\"/Investor/reports/ar99/notes.htm\">Notes</option>\n",
       "<option value=\"/Investor/reports/ar99/report.htm\">Reports</option>\n",
       "<option value=\"#\">-----------------</option>\n",
       "<option value=\"/Investor/reports/ar99/directors_officers.htm\">Directors and Officers</option>\n",
       "<option value=\"/Investor/reports/ar99/locations.htm\">Worldwide Locations</option>\n",
       "<option value=\"/Investor/reports/ar99/investor.htm\">Investor Relations</option>\n",
       "<option value=\"/Investor/reports/ar99/download.htm\">Downloads</option>\n",
       "</select>\n",
       "             \n",
       "        <select name=\"menu1\" onchange=\"GoScriptMenu1(this.form)\" size=\"1\" style=\"background-color: #66CC33;font-family :  verdana,geneva,arial,sans-serif;font-size : 9pt;font-weight : normal; color : #0000000\">\n",
       "<option selected=\"\" value=\"#\">Read Bill's Letter</option>\n",
       "<option value=\"/Investor/reports/ar99/lts.htm\">English</option>\n",
       "<option value=\"/Investor/reports/ar99/lts-canadien.htm\">Canadien Français</option>\n",
       "<option value=\"/Investor/reports/ar99/lts-chinese.htm\">Chinese</option>\n",
       "<option value=\"/Investor/reports/ar99/lts-deutsch.htm\">Deutsch</option>\n",
       "<option value=\"/Investor/reports/ar99/lts-espanol.htm\">Español</option>\n",
       "<option value=\"/Investor/reports/ar99/lts-french.htm\">Français</option>\n",
       "<option value=\"/Investor/reports/ar99/lts-italiano.htm\">Italiano</option>\n",
       "<option value=\"/Investor/reports/ar99/lts-japan.htm\">Japanese</option>\n",
       "<option value=\"/Investor/reports/ar99/lts-nederlands.htm\">Nederlands</option>\n",
       "<option value=\"/Investor/reports/ar99/lts-brasil.htm\">Português (Brasil)</option>\n",
       "<option value=\"/Investor/reports/ar99/lts-portugal.htm\">Português (Portugal)</option>\n",
       "</select>\n",
       "</td>\n",
       "<td align=\"right\" bgcolor=\"#66CC33\"><img height=\"29\" src=\"images/title_gradient.gif\" width=\"154\"/></td>\n",
       "</tr>\n",
       "</table>\n",
       "</form>\n",
       "<table border=\"0\" cellpadding=\"0\" cellspacing=\"0\" width=\"415\">\n",
       "<tr>\n",
       "<td align=\"left\" bgcolor=\"#FFFFFF\" valign=\"top\" width=\"15\"><font face=\"Verdana, Arial, Geneva\" size=\"1\">  </font></td>\n",
       "<td align=\"left\" bgcolor=\"#FFFFFF\" height=\"15\" valign=\"top\" width=\"400\"><font face=\"Verdana, Arial, Geneva\" size=\"1\">  </font></td>\n",
       "</tr>\n",
       "<tr>\n",
       "<td align=\"left\" bgcolor=\"#FFFFFF\" valign=\"top\" width=\"15\"><font face=\"Verdana, Arial, Geneva\" size=\"1\">  </font></td>\n",
       "<td align=\"left\" bgcolor=\"#FFFFFF\" valign=\"top\" width=\"400\">\n",
       "<table cellpadding=\"0\" cellspacing=\"0\" width=\"100%\">\n",
       "<tr>\n",
       "<td align=\"left\" height=\"10\" valign=\"BOTTOM\" width=\"4%\"><font face=\"Verdana, Arial, Geneva\" size=\"1\">  </font></td>\n",
       "<td align=\"left\" height=\"10\" valign=\"BOTTOM\" width=\"1%\"><font face=\"Verdana, Arial, Geneva\" size=\"1\">  </font></td>\n",
       "<td align=\"left\" colspan=\"3\" height=\"10\" valign=\"BOTTOM\" width=\"58%\">\n",
       "<p><font face=\"Verdana, Arial, Geneva\" size=\"2\"><u><font color=\"#008000\" size=\"1\">INCOME STATEMENTS</font></u></font></p>\n",
       "</td>\n",
       "<td align=\"right\" height=\"10\" valign=\"BOTTOM\" width=\"15%\"><font face=\"Verdana, Arial, Geneva\" size=\"1\">  </font></td>\n",
       "<td align=\"right\" height=\"10\" valign=\"BOTTOM\" width=\"1%\"><font face=\"Verdana, Arial, Geneva\" size=\"1\">  </font></td>\n",
       "<td align=\"right\" height=\"10\" valign=\"BOTTOM\" width=\"15%\"><font face=\"Verdana, Arial, Geneva\" size=\"1\">  </font></td>\n",
       "<td align=\"right\" height=\"10\" valign=\"BOTTOM\" width=\"1%\"><font face=\"Verdana, Arial, Geneva\" size=\"1\">  </font></td>\n",
       "<td align=\"right\" height=\"10\" valign=\"BOTTOM\" width=\"15%\"><b><font face=\"Verdana, Arial, Geneva\" size=\"1\">  </font></b></td>\n",
       "</tr>\n",
       "<tr>\n",
       "<td align=\"left\" height=\"10\" valign=\"BOTTOM\" width=\"4%\"><font face=\"Verdana, Arial, Geneva\" size=\"1\">  </font></td>\n",
       "<td align=\"left\" height=\"10\" valign=\"BOTTOM\" width=\"1%\"><font face=\"Verdana, Arial, Geneva\" size=\"1\">  </font></td>\n",
       "<td align=\"left\" colspan=\"3\" height=\"10\" valign=\"BOTTOM\" width=\"58%\"><font face=\"Verdana, Arial, Geneva\" size=\"1\">  </font></td>\n",
       "<td align=\"right\" height=\"10\" valign=\"BOTTOM\" width=\"15%\"><font face=\"Verdana, Arial, Geneva\" size=\"1\">  </font></td>\n",
       "<td align=\"right\" height=\"10\" valign=\"BOTTOM\" width=\"1%\"><font face=\"Verdana, Arial, Geneva\" size=\"1\">  </font></td>\n",
       "<td align=\"right\" height=\"10\" valign=\"BOTTOM\" width=\"15%\"><font face=\"Verdana, Arial, Geneva\" size=\"1\">  </font></td>\n",
       "<td align=\"right\" height=\"10\" valign=\"BOTTOM\" width=\"1%\"><font face=\"Verdana, Arial, Geneva\" size=\"1\">  </font></td>\n",
       "<td align=\"right\" height=\"10\" valign=\"BOTTOM\" width=\"15%\"><b><font face=\"Verdana, Arial, Geneva\" size=\"1\">  </font></b></td>\n",
       "</tr>\n",
       "<tr>\n",
       "<td align=\"left\" height=\"10\" valign=\"BOTTOM\" width=\"4%\"><font face=\"Verdana, Arial, Geneva\" size=\"1\">  </font></td>\n",
       "<td align=\"left\" height=\"10\" valign=\"BOTTOM\" width=\"1%\"><font face=\"Verdana, Arial, Geneva\" size=\"1\">  </font></td>\n",
       "<td align=\"left\" colspan=\"3\" height=\"10\" valign=\"BOTTOM\" width=\"58%\"><font face=\"Verdana, Arial, Geneva\" size=\"1\">  </font></td>\n",
       "<td align=\"right\" height=\"10\" valign=\"BOTTOM\" width=\"15%\"><font face=\"Verdana, Arial, Geneva\" size=\"1\">  </font></td>\n",
       "<td align=\"right\" height=\"10\" valign=\"BOTTOM\" width=\"1%\"><font face=\"Verdana, Arial, Geneva\" size=\"1\">  </font></td>\n",
       "<td align=\"right\" height=\"10\" valign=\"BOTTOM\" width=\"15%\"><font face=\"Verdana, Arial, Geneva\" size=\"1\">  </font></td>\n",
       "<td align=\"right\" height=\"10\" valign=\"BOTTOM\" width=\"1%\"><font face=\"Verdana, Arial, Geneva\" size=\"1\">  </font></td>\n",
       "<td align=\"right\" height=\"10\" valign=\"BOTTOM\" width=\"15%\"><b><font face=\"Verdana, Arial, Geneva\" size=\"1\">  </font></b></td>\n",
       "</tr>\n",
       "<tr>\n",
       "<td align=\"left\" height=\"10\" valign=\"BOTTOM\" width=\"4%\"><font face=\"Verdana, Arial, Geneva\" size=\"1\">msft</font></td>\n",
       "<td align=\"left\" height=\"10\" valign=\"BOTTOM\" width=\"1%\"><font face=\"Verdana, Arial, Geneva\" size=\"1\">  </font></td>\n",
       "<td align=\"left\" colspan=\"8\" height=\"10\" valign=\"BOTTOM\" width=\"105%\"><font face=\"Verdana, Arial, Geneva\" size=\"1\">In millions, except earnings per share</font></td>\n",
       "</tr>\n",
       "<tr>\n",
       "<td height=\"10\" valign=\"BOTTOM\" width=\"4%\">\n",
       "<hr color=\"#000000\" noshade=\"\" size=\"1\"/>\n",
       "</td>\n",
       "<td height=\"10\" valign=\"BOTTOM\" width=\"1%\"><font face=\"Verdana, Arial, Geneva\" size=\"1\">  </font></td>\n",
       "<td colspan=\"8\" height=\"10\" valign=\"BOTTOM\">\n",
       "<hr color=\"#000000\" noshade=\"\" size=\"1\"/>\n",
       "</td>\n",
       "</tr>\n",
       "<tr>\n",
       "<td align=\"left\" height=\"10\" valign=\"BOTTOM\" width=\"4%\"><font face=\"Verdana, Arial, Geneva\" size=\"1\">  </font></td>\n",
       "<td align=\"left\" height=\"10\" valign=\"BOTTOM\" width=\"1%\"><font face=\"Verdana, Arial, Geneva\" size=\"1\">  </font></td>\n",
       "<td align=\"left\" colspan=\"3\" height=\"10\" valign=\"BOTTOM\" width=\"58%\"><font face=\"Verdana, Arial, Geneva\" size=\"1\">Year Ended June 30</font></td>\n",
       "<td align=\"right\" height=\"10\" valign=\"BOTTOM\" width=\"15%\"><font face=\"Verdana, Arial, Geneva\" size=\"1\">1997</font></td>\n",
       "<td align=\"right\" height=\"10\" valign=\"BOTTOM\" width=\"1%\"><font face=\"Verdana, Arial, Geneva\" size=\"1\">  </font></td>\n",
       "<td align=\"right\" height=\"10\" valign=\"BOTTOM\" width=\"15%\"><font face=\"Verdana, Arial, Geneva\" size=\"1\">1998</font></td>\n",
       "<td align=\"right\" height=\"10\" valign=\"BOTTOM\" width=\"1%\"><font face=\"Verdana, Arial, Geneva\" size=\"1\">  </font></td>\n",
       "<td align=\"right\" height=\"10\" valign=\"BOTTOM\" width=\"15%\"><b><font face=\"Verdana, Arial, Geneva\" size=\"1\">1999</font></b></td>\n",
       "</tr>\n",
       "<tr>\n",
       "<td align=\"left\" height=\"20\" valign=\"BOTTOM\" width=\"4%\"><font face=\"Verdana, Arial, Geneva\" size=\"1\">  </font></td>\n",
       "<td align=\"left\" height=\"20\" valign=\"BOTTOM\" width=\"1%\"><font face=\"Verdana, Arial, Geneva\" size=\"1\">  </font></td>\n",
       "<td align=\"left\" colspan=\"3\" height=\"20\" valign=\"BOTTOM\" width=\"58%\"><font face=\"Verdana, Arial, Geneva\" size=\"1\">  </font></td>\n",
       "<td align=\"right\" height=\"20\" valign=\"BOTTOM\" width=\"15%\"><font face=\"Verdana, Arial, Geneva\" size=\"1\">  </font></td>\n",
       "<td align=\"right\" height=\"20\" valign=\"BOTTOM\" width=\"1%\"><font face=\"Verdana, Arial, Geneva\" size=\"1\">  </font></td>\n",
       "<td align=\"right\" height=\"20\" valign=\"BOTTOM\" width=\"15%\"><font face=\"Verdana, Arial, Geneva\" size=\"1\">  </font></td>\n",
       "<td align=\"right\" height=\"20\" valign=\"BOTTOM\" width=\"1%\"><font face=\"Verdana, Arial, Geneva\" size=\"1\">  </font></td>\n",
       "<td align=\"right\" height=\"20\" valign=\"BOTTOM\" width=\"15%\"><b><font face=\"Verdana, Arial, Geneva\" size=\"1\">  </font></b></td>\n",
       "</tr>\n",
       "<tr>\n",
       "<td align=\"left\" height=\"10\" valign=\"BOTTOM\" width=\"4%\"><font face=\"Verdana, Arial, Geneva\" size=\"1\">  </font></td>\n",
       "<td align=\"left\" height=\"10\" valign=\"BOTTOM\" width=\"1%\"><font face=\"Verdana, Arial, Geneva\" size=\"1\">  </font></td>\n",
       "<td align=\"left\" colspan=\"3\" height=\"10\" valign=\"BOTTOM\" width=\"58%\"><font face=\"Verdana, Arial, Geneva\" size=\"1\">Revenue</font></td>\n",
       "<td align=\"right\" height=\"10\" valign=\"BOTTOM\" width=\"15%\"><font face=\"Verdana, Arial, Geneva\" size=\"1\">$11,936</font></td>\n",
       "<td align=\"right\" height=\"10\" valign=\"BOTTOM\" width=\"1%\"><font face=\"Verdana, Arial, Geneva\" size=\"1\">  </font></td>\n",
       "<td align=\"right\" height=\"10\" valign=\"BOTTOM\" width=\"15%\"><font face=\"Verdana, Arial, Geneva\" size=\"1\">$15,262</font></td>\n",
       "<td align=\"right\" height=\"10\" valign=\"BOTTOM\" width=\"1%\"><font face=\"Verdana, Arial, Geneva\" size=\"1\">  </font></td>\n",
       "<td align=\"right\" height=\"10\" valign=\"BOTTOM\" width=\"15%\"><b><font face=\"Verdana, Arial, Geneva\" size=\"1\">$19,747</font></b></td>\n",
       "</tr>\n",
       "<tr>\n",
       "<td align=\"left\" height=\"10\" valign=\"BOTTOM\" width=\"4%\"><font face=\"Verdana, Arial, Geneva\" size=\"1\">  </font></td>\n",
       "<td align=\"left\" height=\"10\" valign=\"BOTTOM\" width=\"1%\"><font face=\"Verdana, Arial, Geneva\" size=\"1\">  </font></td>\n",
       "<td align=\"left\" colspan=\"3\" height=\"10\" valign=\"BOTTOM\" width=\"58%\"><font face=\"Verdana, Arial, Geneva\" size=\"1\">  </font></td>\n",
       "<td align=\"right\" height=\"10\" valign=\"BOTTOM\" width=\"15%\"><font face=\"Verdana, Arial, Geneva\" size=\"1\">  </font></td>\n",
       "<td align=\"right\" height=\"10\" valign=\"BOTTOM\" width=\"1%\"><font face=\"Verdana, Arial, Geneva\" size=\"1\">  </font></td>\n",
       "<td align=\"right\" height=\"10\" valign=\"BOTTOM\" width=\"15%\"><font face=\"Verdana, Arial, Geneva\" size=\"1\">  </font></td>\n",
       "<td align=\"right\" height=\"10\" valign=\"BOTTOM\" width=\"1%\"><font face=\"Verdana, Arial, Geneva\" size=\"1\">  </font></td>\n",
       "<td align=\"right\" height=\"10\" valign=\"BOTTOM\" width=\"15%\"><b><font face=\"Verdana, Arial, Geneva\" size=\"1\">  </font></b></td>\n",
       "</tr>\n",
       "<tr>\n",
       "<td align=\"left\" height=\"10\" valign=\"BOTTOM\" width=\"4%\"><font face=\"Verdana, Arial, Geneva\" size=\"1\">  </font></td>\n",
       "<td align=\"left\" height=\"10\" valign=\"BOTTOM\" width=\"1%\"><font face=\"Verdana, Arial, Geneva\" size=\"1\">  </font></td>\n",
       "<td align=\"left\" colspan=\"3\" height=\"10\" valign=\"BOTTOM\" width=\"58%\"><font face=\"Verdana, Arial, Geneva\" size=\"1\">Operating expenses:</font></td>\n",
       "<td align=\"right\" height=\"10\" valign=\"BOTTOM\" width=\"15%\"><font face=\"Verdana, Arial, Geneva\" size=\"1\">  </font></td>\n",
       "<td align=\"right\" height=\"10\" valign=\"BOTTOM\" width=\"1%\"><font face=\"Verdana, Arial, Geneva\" size=\"1\">  </font></td>\n",
       "<td align=\"right\" height=\"10\" valign=\"BOTTOM\" width=\"15%\"><font face=\"Verdana, Arial, Geneva\" size=\"1\">  </font></td>\n",
       "<td align=\"right\" height=\"10\" valign=\"BOTTOM\" width=\"1%\"><font face=\"Verdana, Arial, Geneva\" size=\"1\">  </font></td>\n",
       "<td align=\"right\" height=\"10\" valign=\"BOTTOM\" width=\"15%\"><b><font face=\"Verdana, Arial, Geneva\" size=\"1\">  </font></b></td>\n",
       "</tr>\n",
       "<tr>\n",
       "<td align=\"left\" height=\"10\" valign=\"BOTTOM\" width=\"4%\"><font face=\"Verdana, Arial, Geneva\" size=\"1\">  </font></td>\n",
       "<td align=\"left\" height=\"10\" valign=\"BOTTOM\" width=\"1%\"><font face=\"Verdana, Arial, Geneva\" size=\"1\">  </font></td>\n",
       "<td align=\"left\" height=\"10\" valign=\"BOTTOM\" width=\"4%\"><font face=\"Verdana, Arial, Geneva\" size=\"1\">  </font></td>\n",
       "<td align=\"left\" colspan=\"2\" height=\"10\" valign=\"BOTTOM\" width=\"54%\"><font face=\"Verdana, Arial, Geneva\" size=\"1\">  </font></td>\n",
       "<td align=\"right\" height=\"10\" valign=\"BOTTOM\" width=\"15%\"><font face=\"Verdana, Arial, Geneva\" size=\"1\">  </font></td>\n",
       "<td align=\"right\" height=\"10\" valign=\"BOTTOM\" width=\"1%\"><font face=\"Verdana, Arial, Geneva\" size=\"1\">  </font></td>\n",
       "<td align=\"right\" height=\"10\" valign=\"BOTTOM\" width=\"15%\"><font face=\"Verdana, Arial, Geneva\" size=\"1\">  </font></td>\n",
       "<td align=\"right\" height=\"10\" valign=\"BOTTOM\" width=\"1%\"><font face=\"Verdana, Arial, Geneva\" size=\"1\">  </font></td>\n",
       "<td align=\"right\" height=\"10\" valign=\"BOTTOM\" width=\"15%\"><b><font face=\"Verdana, Arial, Geneva\" size=\"1\">  </font></b></td>\n",
       "</tr>\n",
       "<tr>\n",
       "<td align=\"left\" height=\"10\" valign=\"BOTTOM\" width=\"4%\"><font face=\"Verdana, Arial, Geneva\" size=\"1\">  </font></td>\n",
       "<td align=\"left\" height=\"10\" valign=\"BOTTOM\" width=\"1%\"><font face=\"Verdana, Arial, Geneva\" size=\"1\">  </font></td>\n",
       "<td align=\"left\" height=\"10\" valign=\"BOTTOM\" width=\"4%\"><font face=\"Verdana, Arial, Geneva\" size=\"1\">  </font></td>\n",
       "<td align=\"left\" colspan=\"2\" height=\"10\" valign=\"BOTTOM\" width=\"54%\"><font face=\"Verdana, Arial, Geneva\" size=\"1\">Cost of revenue</font></td>\n",
       "<td align=\"right\" height=\"10\" valign=\"BOTTOM\" width=\"15%\"><font face=\"Verdana, Arial, Geneva\" size=\"1\">2,170</font></td>\n",
       "<td align=\"right\" height=\"10\" valign=\"BOTTOM\" width=\"1%\"><font face=\"Verdana, Arial, Geneva\" size=\"1\">  </font></td>\n",
       "<td align=\"right\" height=\"10\" valign=\"BOTTOM\" width=\"15%\"><font face=\"Verdana, Arial, Geneva\" size=\"1\">2,460</font></td>\n",
       "<td align=\"right\" height=\"10\" valign=\"BOTTOM\" width=\"1%\"><font face=\"Verdana, Arial, Geneva\" size=\"1\">  </font></td>\n",
       "<td align=\"right\" height=\"10\" valign=\"BOTTOM\" width=\"15%\"><b><font face=\"Verdana, Arial, Geneva\" size=\"1\">2,814</font></b></td>\n",
       "</tr>\n",
       "<tr>\n",
       "<td align=\"left\" height=\"10\" valign=\"BOTTOM\" width=\"4%\"><font face=\"Verdana, Arial, Geneva\" size=\"1\">  </font></td>\n",
       "<td align=\"left\" height=\"10\" valign=\"BOTTOM\" width=\"1%\"><font face=\"Verdana, Arial, Geneva\" size=\"1\">  </font></td>\n",
       "<td align=\"left\" height=\"10\" valign=\"BOTTOM\" width=\"4%\"><font face=\"Verdana, Arial, Geneva\" size=\"1\">  </font></td>\n",
       "<td align=\"left\" colspan=\"2\" height=\"10\" valign=\"BOTTOM\" width=\"54%\"><font face=\"Verdana, Arial, Geneva\" size=\"1\">  </font></td>\n",
       "<td align=\"right\" height=\"10\" valign=\"BOTTOM\" width=\"15%\"><font face=\"Verdana, Arial, Geneva\" size=\"1\">  </font></td>\n",
       "<td align=\"right\" height=\"10\" valign=\"BOTTOM\" width=\"1%\"><font face=\"Verdana, Arial, Geneva\" size=\"1\">  </font></td>\n",
       "<td align=\"right\" height=\"10\" valign=\"BOTTOM\" width=\"15%\"><font face=\"Verdana, Arial, Geneva\" size=\"1\">  </font></td>\n",
       "<td align=\"right\" height=\"10\" valign=\"BOTTOM\" width=\"1%\"><font face=\"Verdana, Arial, Geneva\" size=\"1\">  </font></td>\n",
       "<td align=\"right\" height=\"10\" valign=\"BOTTOM\" width=\"15%\"><b><font face=\"Verdana, Arial, Geneva\" size=\"1\">  </font></b></td>\n",
       "</tr>\n",
       "<tr>\n",
       "<td align=\"left\" height=\"10\" valign=\"BOTTOM\" width=\"4%\"><font face=\"Verdana, Arial, Geneva\" size=\"1\">  </font></td>\n",
       "<td align=\"left\" height=\"10\" valign=\"BOTTOM\" width=\"1%\"><font face=\"Verdana, Arial, Geneva\" size=\"1\">  </font></td>\n",
       "<td align=\"left\" height=\"10\" valign=\"BOTTOM\" width=\"4%\"><font face=\"Verdana, Arial, Geneva\" size=\"1\">  </font></td>\n",
       "<td align=\"left\" colspan=\"2\" height=\"10\" valign=\"BOTTOM\" width=\"54%\"><font face=\"Verdana, Arial, Geneva\" size=\"1\">Research and development</font></td>\n",
       "<td align=\"right\" height=\"10\" valign=\"BOTTOM\" width=\"15%\"><font face=\"Verdana, Arial, Geneva\" size=\"1\">1,863</font></td>\n",
       "<td align=\"right\" height=\"10\" valign=\"BOTTOM\" width=\"1%\"><font face=\"Verdana, Arial, Geneva\" size=\"1\">  </font></td>\n",
       "<td align=\"right\" height=\"10\" valign=\"BOTTOM\" width=\"15%\"><font face=\"Verdana, Arial, Geneva\" size=\"1\">2,601</font></td>\n",
       "<td align=\"right\" height=\"10\" valign=\"BOTTOM\" width=\"1%\"><font face=\"Verdana, Arial, Geneva\" size=\"1\">  </font></td>\n",
       "<td align=\"right\" height=\"10\" valign=\"BOTTOM\" width=\"15%\"><b><font face=\"Verdana, Arial, Geneva\" size=\"1\">2,970</font></b></td>\n",
       "</tr>\n",
       "<tr>\n",
       "<td align=\"left\" height=\"10\" valign=\"BOTTOM\" width=\"4%\"><font face=\"Verdana, Arial, Geneva\" size=\"1\">  </font></td>\n",
       "<td align=\"left\" height=\"10\" valign=\"BOTTOM\" width=\"1%\"><font face=\"Verdana, Arial, Geneva\" size=\"1\">  </font></td>\n",
       "<td align=\"left\" height=\"10\" valign=\"BOTTOM\" width=\"4%\"><font face=\"Verdana, Arial, Geneva\" size=\"1\">  </font></td>\n",
       "<td align=\"left\" colspan=\"2\" height=\"10\" valign=\"BOTTOM\" width=\"54%\"><font face=\"Verdana, Arial, Geneva\" size=\"1\">  </font></td>\n",
       "<td align=\"right\" height=\"10\" valign=\"BOTTOM\" width=\"15%\"><font face=\"Verdana, Arial, Geneva\" size=\"1\">  </font></td>\n",
       "<td align=\"right\" height=\"10\" valign=\"BOTTOM\" width=\"1%\"><font face=\"Verdana, Arial, Geneva\" size=\"1\">  </font></td>\n",
       "<td align=\"right\" height=\"10\" valign=\"BOTTOM\" width=\"15%\"><font face=\"Verdana, Arial, Geneva\" size=\"1\">  </font></td>\n",
       "<td align=\"right\" height=\"10\" valign=\"BOTTOM\" width=\"1%\"><font face=\"Verdana, Arial, Geneva\" size=\"1\">  </font></td>\n",
       "<td align=\"right\" height=\"10\" valign=\"BOTTOM\" width=\"15%\"><b><font face=\"Verdana, Arial, Geneva\" size=\"1\">  </font></b></td>\n",
       "</tr>\n",
       "<tr>\n",
       "<td align=\"left\" height=\"10\" valign=\"BOTTOM\" width=\"4%\"><font face=\"Verdana, Arial, Geneva\" size=\"1\">  </font></td>\n",
       "<td align=\"left\" height=\"10\" valign=\"BOTTOM\" width=\"1%\"><font face=\"Verdana, Arial, Geneva\" size=\"1\">  </font></td>\n",
       "<td align=\"left\" height=\"10\" valign=\"BOTTOM\" width=\"4%\"><font face=\"Verdana, Arial, Geneva\" size=\"1\">  </font></td>\n",
       "<td align=\"left\" colspan=\"2\" height=\"10\" valign=\"BOTTOM\" width=\"54%\"><font face=\"Verdana, Arial, Geneva\" size=\"1\">Acquired in-process technology</font></td>\n",
       "<td align=\"right\" height=\"10\" valign=\"BOTTOM\" width=\"15%\"><font face=\"Verdana, Arial, Geneva\" size=\"1\">—</font></td>\n",
       "<td align=\"right\" height=\"10\" valign=\"BOTTOM\" width=\"1%\"><font face=\"Verdana, Arial, Geneva\" size=\"1\">  </font></td>\n",
       "<td align=\"right\" height=\"10\" valign=\"BOTTOM\" width=\"15%\"><font face=\"Verdana, Arial, Geneva\" size=\"1\">296</font></td>\n",
       "<td align=\"right\" height=\"10\" valign=\"BOTTOM\" width=\"1%\"><font face=\"Verdana, Arial, Geneva\" size=\"1\">  </font></td>\n",
       "<td align=\"right\" height=\"10\" valign=\"BOTTOM\" width=\"15%\"><b><font face=\"Verdana, Arial, Geneva\" size=\"1\">—</font></b></td>\n",
       "</tr>\n",
       "<tr>\n",
       "<td align=\"left\" height=\"10\" valign=\"BOTTOM\" width=\"4%\"><font face=\"Verdana, Arial, Geneva\" size=\"1\">  </font></td>\n",
       "<td align=\"left\" height=\"10\" valign=\"BOTTOM\" width=\"1%\"><font face=\"Verdana, Arial, Geneva\" size=\"1\">  </font></td>\n",
       "<td align=\"left\" height=\"10\" valign=\"BOTTOM\" width=\"4%\"><font face=\"Verdana, Arial, Geneva\" size=\"1\">  </font></td>\n",
       "<td align=\"left\" colspan=\"2\" height=\"10\" valign=\"BOTTOM\" width=\"54%\"><font face=\"Verdana, Arial, Geneva\" size=\"1\">  </font></td>\n",
       "<td align=\"right\" height=\"10\" valign=\"BOTTOM\" width=\"15%\"><font face=\"Verdana, Arial, Geneva\" size=\"1\">  </font></td>\n",
       "<td align=\"right\" height=\"10\" valign=\"BOTTOM\" width=\"1%\"><font face=\"Verdana, Arial, Geneva\" size=\"1\">  </font></td>\n",
       "<td align=\"right\" height=\"10\" valign=\"BOTTOM\" width=\"15%\"><font face=\"Verdana, Arial, Geneva\" size=\"1\">  </font></td>\n",
       "<td align=\"right\" height=\"10\" valign=\"BOTTOM\" width=\"1%\"><font face=\"Verdana, Arial, Geneva\" size=\"1\">  </font></td>\n",
       "<td align=\"right\" height=\"10\" valign=\"BOTTOM\" width=\"15%\"><b><font face=\"Verdana, Arial, Geneva\" size=\"1\">  </font></b></td>\n",
       "</tr>\n",
       "<tr>\n",
       "<td align=\"left\" height=\"10\" valign=\"BOTTOM\" width=\"4%\"><font face=\"Verdana, Arial, Geneva\" size=\"1\">  </font></td>\n",
       "<td align=\"left\" height=\"10\" valign=\"BOTTOM\" width=\"1%\"><font face=\"Verdana, Arial, Geneva\" size=\"1\">  </font></td>\n",
       "<td align=\"left\" height=\"10\" valign=\"BOTTOM\" width=\"4%\"><font face=\"Verdana, Arial, Geneva\" size=\"1\">  </font></td>\n",
       "<td align=\"left\" colspan=\"2\" height=\"10\" valign=\"BOTTOM\" width=\"54%\"><font face=\"Verdana, Arial, Geneva\" size=\"1\">Sales and marketing</font></td>\n",
       "<td align=\"right\" height=\"10\" valign=\"BOTTOM\" width=\"15%\"><font face=\"Verdana, Arial, Geneva\" size=\"1\">2,411</font></td>\n",
       "<td align=\"right\" height=\"10\" valign=\"BOTTOM\" width=\"1%\"><font face=\"Verdana, Arial, Geneva\" size=\"1\">  </font></td>\n",
       "<td align=\"right\" height=\"10\" valign=\"BOTTOM\" width=\"15%\"><font face=\"Verdana, Arial, Geneva\" size=\"1\">2,828</font></td>\n",
       "<td align=\"right\" height=\"10\" valign=\"BOTTOM\" width=\"1%\"><font face=\"Verdana, Arial, Geneva\" size=\"1\">  </font></td>\n",
       "<td align=\"right\" height=\"10\" valign=\"BOTTOM\" width=\"15%\"><b><font face=\"Verdana, Arial, Geneva\" size=\"1\">3,231</font></b></td>\n",
       "</tr>\n",
       "<tr>\n",
       "<td align=\"left\" height=\"10\" valign=\"BOTTOM\" width=\"4%\"><font face=\"Verdana, Arial, Geneva\" size=\"1\">  </font></td>\n",
       "<td align=\"left\" height=\"10\" valign=\"BOTTOM\" width=\"1%\"><font face=\"Verdana, Arial, Geneva\" size=\"1\">  </font></td>\n",
       "<td align=\"left\" height=\"10\" valign=\"BOTTOM\" width=\"4%\"><font face=\"Verdana, Arial, Geneva\" size=\"1\">  </font></td>\n",
       "<td align=\"left\" colspan=\"2\" height=\"10\" valign=\"BOTTOM\" width=\"54%\"><font face=\"Verdana, Arial, Geneva\" size=\"1\">  </font></td>\n",
       "<td align=\"right\" height=\"10\" valign=\"BOTTOM\" width=\"15%\"><font face=\"Verdana, Arial, Geneva\" size=\"1\">  </font></td>\n",
       "<td align=\"right\" height=\"10\" valign=\"BOTTOM\" width=\"1%\"><font face=\"Verdana, Arial, Geneva\" size=\"1\">  </font></td>\n",
       "<td align=\"right\" height=\"10\" valign=\"BOTTOM\" width=\"15%\"><font face=\"Verdana, Arial, Geneva\" size=\"1\">  </font></td>\n",
       "<td align=\"right\" height=\"10\" valign=\"BOTTOM\" width=\"1%\"><font face=\"Verdana, Arial, Geneva\" size=\"1\">  </font></td>\n",
       "<td align=\"right\" height=\"10\" valign=\"BOTTOM\" width=\"15%\"><b><font face=\"Verdana, Arial, Geneva\" size=\"1\">  </font></b></td>\n",
       "</tr>\n",
       "<tr>\n",
       "<td align=\"left\" height=\"10\" valign=\"BOTTOM\" width=\"4%\"><font face=\"Verdana, Arial, Geneva\" size=\"1\">  </font></td>\n",
       "<td align=\"left\" height=\"10\" valign=\"BOTTOM\" width=\"1%\"><font face=\"Verdana, Arial, Geneva\" size=\"1\">  </font></td>\n",
       "<td align=\"left\" height=\"10\" valign=\"BOTTOM\" width=\"4%\"><font face=\"Verdana, Arial, Geneva\" size=\"1\">  </font></td>\n",
       "<td align=\"left\" colspan=\"2\" height=\"10\" valign=\"BOTTOM\" width=\"54%\"><font face=\"Verdana, Arial, Geneva\" size=\"1\">General and administrative</font></td>\n",
       "<td align=\"right\" height=\"10\" valign=\"BOTTOM\" width=\"15%\"><font face=\"Verdana, Arial, Geneva\" size=\"1\">362</font></td>\n",
       "<td align=\"right\" height=\"10\" valign=\"BOTTOM\" width=\"1%\"><font face=\"Verdana, Arial, Geneva\" size=\"1\">  </font></td>\n",
       "<td align=\"right\" height=\"10\" valign=\"BOTTOM\" width=\"15%\"><font face=\"Verdana, Arial, Geneva\" size=\"1\">433</font></td>\n",
       "<td align=\"right\" height=\"10\" valign=\"BOTTOM\" width=\"1%\"><font face=\"Verdana, Arial, Geneva\" size=\"1\">  </font></td>\n",
       "<td align=\"right\" height=\"10\" valign=\"BOTTOM\" width=\"15%\"><b><font face=\"Verdana, Arial, Geneva\" size=\"1\">689</font></b></td>\n",
       "</tr>\n",
       "<tr>\n",
       "<td align=\"left\" height=\"10\" valign=\"BOTTOM\" width=\"4%\"><font face=\"Verdana, Arial, Geneva\" size=\"1\">  </font></td>\n",
       "<td align=\"left\" height=\"10\" valign=\"BOTTOM\" width=\"1%\"><font face=\"Verdana, Arial, Geneva\" size=\"1\">  </font></td>\n",
       "<td align=\"left\" height=\"10\" valign=\"BOTTOM\" width=\"4%\"><font face=\"Verdana, Arial, Geneva\" size=\"1\">  </font></td>\n",
       "<td align=\"left\" colspan=\"2\" height=\"10\" valign=\"BOTTOM\" width=\"54%\"><font face=\"Verdana, Arial, Geneva\" size=\"1\">  </font></td>\n",
       "<td align=\"right\" height=\"10\" valign=\"BOTTOM\" width=\"15%\"><font face=\"Verdana, Arial, Geneva\" size=\"1\">  </font></td>\n",
       "<td align=\"right\" height=\"10\" valign=\"BOTTOM\" width=\"1%\"><font face=\"Verdana, Arial, Geneva\" size=\"1\">  </font></td>\n",
       "<td align=\"right\" height=\"10\" valign=\"BOTTOM\" width=\"15%\"><font face=\"Verdana, Arial, Geneva\" size=\"1\">  </font></td>\n",
       "<td align=\"right\" height=\"10\" valign=\"BOTTOM\" width=\"1%\"><font face=\"Verdana, Arial, Geneva\" size=\"1\">  </font></td>\n",
       "<td align=\"right\" height=\"10\" valign=\"BOTTOM\" width=\"15%\"><b><font face=\"Verdana, Arial, Geneva\" size=\"1\">  </font></b></td>\n",
       "</tr>\n",
       "<tr>\n",
       "<td align=\"left\" height=\"10\" valign=\"BOTTOM\" width=\"4%\"><font face=\"Verdana, Arial, Geneva\" size=\"1\">  </font></td>\n",
       "<td align=\"left\" height=\"10\" valign=\"BOTTOM\" width=\"1%\"><font face=\"Verdana, Arial, Geneva\" size=\"1\">  </font></td>\n",
       "<td align=\"left\" height=\"10\" valign=\"BOTTOM\" width=\"4%\"><font face=\"Verdana, Arial, Geneva\" size=\"1\">  </font></td>\n",
       "<td align=\"left\" colspan=\"2\" height=\"10\" valign=\"BOTTOM\" width=\"54%\"><font face=\"Verdana, Arial, Geneva\" size=\"1\">Other expenses</font></td>\n",
       "<td align=\"right\" height=\"10\" valign=\"BOTTOM\" width=\"15%\"><font face=\"Verdana, Arial, Geneva\" size=\"1\">259</font></td>\n",
       "<td align=\"right\" height=\"10\" valign=\"BOTTOM\" width=\"1%\"><font face=\"Verdana, Arial, Geneva\" size=\"1\">  </font></td>\n",
       "<td align=\"right\" height=\"10\" valign=\"BOTTOM\" width=\"15%\"><font face=\"Verdana, Arial, Geneva\" size=\"1\">230</font></td>\n",
       "<td align=\"right\" height=\"10\" valign=\"BOTTOM\" width=\"1%\"><font face=\"Verdana, Arial, Geneva\" size=\"1\">  </font></td>\n",
       "<td align=\"right\" height=\"10\" valign=\"BOTTOM\" width=\"15%\"><b><font face=\"Verdana, Arial, Geneva\" size=\"1\">115</font></b></td>\n",
       "</tr>\n",
       "<tr>\n",
       "<td align=\"left\" height=\"10\" valign=\"BOTTOM\" width=\"4%\"><font face=\"Verdana, Arial, Geneva\" size=\"1\">  </font></td>\n",
       "<td align=\"left\" height=\"10\" valign=\"BOTTOM\" width=\"1%\"><font face=\"Verdana, Arial, Geneva\" size=\"1\">  </font></td>\n",
       "<td align=\"left\" colspan=\"8\" height=\"10\" valign=\"BOTTOM\">\n",
       "<hr color=\"#000000\" noshade=\"\" size=\"1\"/>\n",
       "</td>\n",
       "</tr>\n",
       "<tr>\n",
       "<td align=\"left\" height=\"10\" valign=\"BOTTOM\" width=\"4%\"><font face=\"Verdana, Arial, Geneva\" size=\"1\">  </font></td>\n",
       "<td align=\"left\" height=\"10\" valign=\"BOTTOM\" width=\"1%\"><font face=\"Verdana, Arial, Geneva\" size=\"1\">  </font></td>\n",
       "<td align=\"left\" height=\"10\" valign=\"BOTTOM\" width=\"4%\"><font face=\"Verdana, Arial, Geneva\" size=\"1\">  </font></td>\n",
       "<td align=\"left\" height=\"10\" valign=\"BOTTOM\" width=\"4%\"><font face=\"Verdana, Arial, Geneva\" size=\"1\">  </font></td>\n",
       "<td align=\"left\" height=\"10\" valign=\"BOTTOM\" width=\"50%\"><font face=\"Verdana, Arial, Geneva\" size=\"1\">Total operating expenses</font></td>\n",
       "<td align=\"right\" height=\"10\" valign=\"BOTTOM\" width=\"15%\"><font face=\"Verdana, Arial, Geneva\" size=\"1\">7,065</font></td>\n",
       "<td align=\"right\" height=\"10\" valign=\"BOTTOM\" width=\"1%\"><font face=\"Verdana, Arial, Geneva\" size=\"1\">  </font></td>\n",
       "<td align=\"right\" height=\"10\" valign=\"BOTTOM\" width=\"15%\"><font face=\"Verdana, Arial, Geneva\" size=\"1\">8,848</font></td>\n",
       "<td align=\"right\" height=\"10\" valign=\"BOTTOM\" width=\"1%\"><font face=\"Verdana, Arial, Geneva\" size=\"1\">  </font></td>\n",
       "<td align=\"right\" height=\"10\" valign=\"BOTTOM\" width=\"15%\"><b><font face=\"Verdana, Arial, Geneva\" size=\"1\">9,819</font></b></td>\n",
       "</tr>\n",
       "<tr>\n",
       "<td align=\"left\" height=\"10\" valign=\"BOTTOM\" width=\"4%\"><font face=\"Verdana, Arial, Geneva\" size=\"1\">  </font></td>\n",
       "<td align=\"left\" height=\"10\" valign=\"BOTTOM\" width=\"1%\"><font face=\"Verdana, Arial, Geneva\" size=\"1\">  </font></td>\n",
       "<td align=\"left\" colspan=\"8\" height=\"10\" valign=\"BOTTOM\">\n",
       "<hr color=\"#000000\" noshade=\"\" size=\"1\"/>\n",
       "</td>\n",
       "</tr>\n",
       "<tr>\n",
       "<td align=\"left\" height=\"10\" valign=\"BOTTOM\" width=\"4%\"><font face=\"Verdana, Arial, Geneva\" size=\"1\">  </font></td>\n",
       "<td align=\"left\" height=\"10\" valign=\"BOTTOM\" width=\"1%\"><font face=\"Verdana, Arial, Geneva\" size=\"1\">  </font></td>\n",
       "<td align=\"left\" colspan=\"3\" height=\"10\" valign=\"BOTTOM\" width=\"58%\"><font face=\"Verdana, Arial, Geneva\" size=\"1\">Operating income</font></td>\n",
       "<td align=\"right\" height=\"10\" valign=\"BOTTOM\" width=\"15%\"><font face=\"Verdana, Arial, Geneva\" size=\"1\">4,871</font></td>\n",
       "<td align=\"right\" height=\"10\" valign=\"BOTTOM\" width=\"1%\"><font face=\"Verdana, Arial, Geneva\" size=\"1\">  </font></td>\n",
       "<td align=\"right\" height=\"10\" valign=\"BOTTOM\" width=\"15%\"><font face=\"Verdana, Arial, Geneva\" size=\"1\">6,414</font></td>\n",
       "<td align=\"right\" height=\"10\" valign=\"BOTTOM\" width=\"1%\"><font face=\"Verdana, Arial, Geneva\" size=\"1\">  </font></td>\n",
       "<td align=\"right\" height=\"10\" valign=\"BOTTOM\" width=\"15%\"><b><font face=\"Verdana, Arial, Geneva\" size=\"1\">9,928</font></b></td>\n",
       "</tr>\n",
       "<tr>\n",
       "<td align=\"left\" height=\"10\" valign=\"BOTTOM\" width=\"4%\"><font face=\"Verdana, Arial, Geneva\" size=\"1\">  </font></td>\n",
       "<td align=\"left\" height=\"10\" valign=\"BOTTOM\" width=\"1%\"><font face=\"Verdana, Arial, Geneva\" size=\"1\">  </font></td>\n",
       "<td align=\"left\" colspan=\"3\" height=\"10\" valign=\"BOTTOM\" width=\"58%\"><font face=\"Verdana, Arial, Geneva\" size=\"1\">  </font></td>\n",
       "<td align=\"right\" height=\"10\" valign=\"BOTTOM\" width=\"15%\"><font face=\"Verdana, Arial, Geneva\" size=\"1\">  </font></td>\n",
       "<td align=\"right\" height=\"10\" valign=\"BOTTOM\" width=\"1%\"><font face=\"Verdana, Arial, Geneva\" size=\"1\">  </font></td>\n",
       "<td align=\"right\" height=\"10\" valign=\"BOTTOM\" width=\"15%\"><font face=\"Verdana, Arial, Geneva\" size=\"1\">  </font></td>\n",
       "<td align=\"right\" height=\"10\" valign=\"BOTTOM\" width=\"1%\"><font face=\"Verdana, Arial, Geneva\" size=\"1\">  </font></td>\n",
       "<td align=\"right\" height=\"10\" valign=\"BOTTOM\" width=\"15%\"><b><font face=\"Verdana, Arial, Geneva\" size=\"1\">  </font></b></td>\n",
       "</tr>\n",
       "<tr>\n",
       "<td align=\"left\" height=\"10\" valign=\"BOTTOM\" width=\"4%\"><font face=\"Verdana, Arial, Geneva\" size=\"1\">  </font></td>\n",
       "<td align=\"left\" height=\"10\" valign=\"BOTTOM\" width=\"1%\"><font face=\"Verdana, Arial, Geneva\" size=\"1\">  </font></td>\n",
       "<td align=\"left\" colspan=\"3\" height=\"10\" valign=\"BOTTOM\" width=\"58%\"><font face=\"Verdana, Arial, Geneva\" size=\"1\">Investment income</font></td>\n",
       "<td align=\"right\" height=\"10\" valign=\"BOTTOM\" width=\"15%\"><font face=\"Verdana, Arial, Geneva\" size=\"1\">443</font></td>\n",
       "<td align=\"right\" height=\"10\" valign=\"BOTTOM\" width=\"1%\"><font face=\"Verdana, Arial, Geneva\" size=\"1\">  </font></td>\n",
       "<td align=\"right\" height=\"10\" valign=\"BOTTOM\" width=\"15%\"><font face=\"Verdana, Arial, Geneva\" size=\"1\">703</font></td>\n",
       "<td align=\"right\" height=\"10\" valign=\"BOTTOM\" width=\"1%\"><font face=\"Verdana, Arial, Geneva\" size=\"1\">  </font></td>\n",
       "<td align=\"right\" height=\"10\" valign=\"BOTTOM\" width=\"15%\"><b><font face=\"Verdana, Arial, Geneva\" size=\"1\">1,803</font></b></td>\n",
       "</tr>\n",
       "<tr>\n",
       "<td align=\"left\" height=\"10\" valign=\"BOTTOM\" width=\"4%\"><font face=\"Verdana, Arial, Geneva\" size=\"1\">  </font></td>\n",
       "<td align=\"left\" height=\"10\" valign=\"BOTTOM\" width=\"1%\"><font face=\"Verdana, Arial, Geneva\" size=\"1\">  </font></td>\n",
       "<td align=\"left\" colspan=\"3\" height=\"10\" valign=\"BOTTOM\" width=\"58%\"><font face=\"Verdana, Arial, Geneva\" size=\"1\">  </font></td>\n",
       "<td align=\"right\" height=\"10\" valign=\"BOTTOM\" width=\"15%\"><font face=\"Verdana, Arial, Geneva\" size=\"1\">  </font></td>\n",
       "<td align=\"right\" height=\"10\" valign=\"BOTTOM\" width=\"1%\"><font face=\"Verdana, Arial, Geneva\" size=\"1\">  </font></td>\n",
       "<td align=\"right\" height=\"10\" valign=\"BOTTOM\" width=\"15%\"><font face=\"Verdana, Arial, Geneva\" size=\"1\">  </font></td>\n",
       "<td align=\"right\" height=\"10\" valign=\"BOTTOM\" width=\"1%\"><font face=\"Verdana, Arial, Geneva\" size=\"1\">  </font></td>\n",
       "<td align=\"right\" height=\"10\" valign=\"BOTTOM\" width=\"15%\"><b><font face=\"Verdana, Arial, Geneva\" size=\"1\">  </font></b></td>\n",
       "</tr>\n",
       "<tr>\n",
       "<td align=\"left\" height=\"10\" valign=\"BOTTOM\" width=\"4%\"><font face=\"Verdana, Arial, Geneva\" size=\"1\">  </font></td>\n",
       "<td align=\"left\" height=\"10\" valign=\"BOTTOM\" width=\"1%\"><font face=\"Verdana, Arial, Geneva\" size=\"1\">  </font></td>\n",
       "<td align=\"left\" colspan=\"3\" height=\"10\" valign=\"BOTTOM\" width=\"58%\"><font face=\"Verdana, Arial, Geneva\" size=\"1\">Gain on sale of Softimage, Inc.</font></td>\n",
       "<td align=\"right\" height=\"10\" valign=\"BOTTOM\" width=\"15%\"><font face=\"Verdana, Arial, Geneva\" size=\"1\">—</font></td>\n",
       "<td align=\"right\" height=\"10\" valign=\"BOTTOM\" width=\"1%\"><font face=\"Verdana, Arial, Geneva\" size=\"1\">  </font></td>\n",
       "<td align=\"right\" height=\"10\" valign=\"BOTTOM\" width=\"15%\"><font face=\"Verdana, Arial, Geneva\" size=\"1\">—</font></td>\n",
       "<td align=\"right\" height=\"10\" valign=\"BOTTOM\" width=\"1%\"><font face=\"Verdana, Arial, Geneva\" size=\"1\">  </font></td>\n",
       "<td align=\"right\" height=\"10\" valign=\"BOTTOM\" width=\"15%\"><b><font face=\"Verdana, Arial, Geneva\" size=\"1\">160</font></b></td>\n",
       "</tr>\n",
       "<tr>\n",
       "<td align=\"left\" height=\"10\" valign=\"BOTTOM\" width=\"4%\"><font face=\"Verdana, Arial, Geneva\" size=\"1\">  </font></td>\n",
       "<td align=\"left\" height=\"10\" valign=\"BOTTOM\" width=\"1%\"><font face=\"Verdana, Arial, Geneva\" size=\"1\">  </font></td>\n",
       "<td align=\"left\" colspan=\"8\" height=\"10\" valign=\"BOTTOM\">\n",
       "<hr color=\"#000000\" noshade=\"\" size=\"1\"/>\n",
       "</td>\n",
       "</tr>\n",
       "<tr>\n",
       "<td align=\"left\" height=\"10\" valign=\"BOTTOM\" width=\"4%\"><font face=\"Verdana, Arial, Geneva\" size=\"1\">  </font></td>\n",
       "<td align=\"left\" height=\"10\" valign=\"BOTTOM\" width=\"1%\"><font face=\"Verdana, Arial, Geneva\" size=\"1\">  </font></td>\n",
       "<td align=\"left\" colspan=\"3\" height=\"10\" valign=\"BOTTOM\" width=\"58%\"><font face=\"Verdana, Arial, Geneva\" size=\"1\">Income before income taxes</font></td>\n",
       "<td align=\"right\" height=\"10\" valign=\"BOTTOM\" width=\"15%\"><font face=\"Verdana, Arial, Geneva\" size=\"1\">5,314</font></td>\n",
       "<td align=\"right\" height=\"10\" valign=\"BOTTOM\" width=\"1%\"><font face=\"Verdana, Arial, Geneva\" size=\"1\">  </font></td>\n",
       "<td align=\"right\" height=\"10\" valign=\"BOTTOM\" width=\"15%\"><font face=\"Verdana, Arial, Geneva\" size=\"1\">7,117</font></td>\n",
       "<td align=\"right\" height=\"10\" valign=\"BOTTOM\" width=\"1%\"><font face=\"Verdana, Arial, Geneva\" size=\"1\">  </font></td>\n",
       "<td align=\"right\" height=\"10\" valign=\"BOTTOM\" width=\"15%\"><b><font face=\"Verdana, Arial, Geneva\" size=\"1\">11,891</font></b></td>\n",
       "</tr>\n",
       "<tr>\n",
       "<td align=\"left\" height=\"10\" valign=\"BOTTOM\" width=\"4%\"><font face=\"Verdana, Arial, Geneva\" size=\"1\">  </font></td>\n",
       "<td align=\"left\" height=\"10\" valign=\"BOTTOM\" width=\"1%\"><font face=\"Verdana, Arial, Geneva\" size=\"1\">  </font></td>\n",
       "<td align=\"left\" colspan=\"3\" height=\"10\" valign=\"BOTTOM\" width=\"58%\"><font face=\"Verdana, Arial, Geneva\" size=\"1\">  </font></td>\n",
       "<td align=\"right\" height=\"10\" valign=\"BOTTOM\" width=\"15%\"><font face=\"Verdana, Arial, Geneva\" size=\"1\">  </font></td>\n",
       "<td align=\"right\" height=\"10\" valign=\"BOTTOM\" width=\"1%\"><font face=\"Verdana, Arial, Geneva\" size=\"1\">  </font></td>\n",
       "<td align=\"right\" height=\"10\" valign=\"BOTTOM\" width=\"15%\"><font face=\"Verdana, Arial, Geneva\" size=\"1\">  </font></td>\n",
       "<td align=\"right\" height=\"10\" valign=\"BOTTOM\" width=\"1%\"><font face=\"Verdana, Arial, Geneva\" size=\"1\">  </font></td>\n",
       "<td align=\"right\" height=\"10\" valign=\"BOTTOM\" width=\"15%\"><b><font face=\"Verdana, Arial, Geneva\" size=\"1\">  </font></b></td>\n",
       "</tr>\n",
       "<tr>\n",
       "<td align=\"left\" height=\"10\" valign=\"BOTTOM\" width=\"4%\"><font face=\"Verdana, Arial, Geneva\" size=\"1\">  </font></td>\n",
       "<td align=\"left\" height=\"10\" valign=\"BOTTOM\" width=\"1%\"><font face=\"Verdana, Arial, Geneva\" size=\"1\">  </font></td>\n",
       "<td align=\"left\" colspan=\"3\" height=\"10\" valign=\"BOTTOM\" width=\"58%\"><font face=\"Verdana, Arial, Geneva\" size=\"1\">Provision for income taxes</font></td>\n",
       "<td align=\"right\" height=\"10\" valign=\"BOTTOM\" width=\"15%\"><font face=\"Verdana, Arial, Geneva\" size=\"1\">1,860</font></td>\n",
       "<td align=\"right\" height=\"10\" valign=\"BOTTOM\" width=\"1%\"><font face=\"Verdana, Arial, Geneva\" size=\"1\">  </font></td>\n",
       "<td align=\"right\" height=\"10\" valign=\"BOTTOM\" width=\"15%\"><font face=\"Verdana, Arial, Geneva\" size=\"1\">2,627</font></td>\n",
       "<td align=\"right\" height=\"10\" valign=\"BOTTOM\" width=\"1%\"><font face=\"Verdana, Arial, Geneva\" size=\"1\">  </font></td>\n",
       "<td align=\"right\" height=\"10\" valign=\"BOTTOM\" width=\"15%\"><b><font face=\"Verdana, Arial, Geneva\" size=\"1\">4,106</font></b></td>\n",
       "</tr>\n",
       "<tr>\n",
       "<td align=\"left\" height=\"10\" valign=\"BOTTOM\" width=\"4%\"><font face=\"Verdana, Arial, Geneva\" size=\"1\">  </font></td>\n",
       "<td align=\"left\" height=\"10\" valign=\"BOTTOM\" width=\"1%\"><font face=\"Verdana, Arial, Geneva\" size=\"1\">  </font></td>\n",
       "<td align=\"left\" colspan=\"8\" height=\"10\" valign=\"BOTTOM\">\n",
       "<hr color=\"#000000\" noshade=\"\" size=\"1\"/>\n",
       "</td>\n",
       "</tr>\n",
       "<tr>\n",
       "<td align=\"left\" height=\"10\" valign=\"BOTTOM\" width=\"4%\"><font face=\"Verdana, Arial, Geneva\" size=\"1\">  </font></td>\n",
       "<td align=\"left\" height=\"10\" valign=\"BOTTOM\" width=\"1%\"><font face=\"Verdana, Arial, Geneva\" size=\"1\">  </font></td>\n",
       "<td align=\"left\" colspan=\"3\" height=\"10\" valign=\"BOTTOM\" width=\"58%\"><font face=\"Verdana, Arial, Geneva\" size=\"1\">Net income </font></td>\n",
       "<td align=\"right\" height=\"10\" valign=\"BOTTOM\" width=\"15%\"><font face=\"Verdana, Arial, Geneva\" size=\"1\">$  3,454</font></td>\n",
       "<td align=\"right\" height=\"10\" valign=\"BOTTOM\" width=\"1%\"><font face=\"Verdana, Arial, Geneva\" size=\"1\">  </font></td>\n",
       "<td align=\"right\" height=\"10\" valign=\"BOTTOM\" width=\"15%\"><font face=\"Verdana, Arial, Geneva\" size=\"1\">$  4,490</font></td>\n",
       "<td align=\"right\" height=\"10\" valign=\"BOTTOM\" width=\"1%\"><font face=\"Verdana, Arial, Geneva\" size=\"1\">  </font></td>\n",
       "<td align=\"right\" height=\"10\" valign=\"BOTTOM\" width=\"15%\"><b><font face=\"Verdana, Arial, Geneva\" size=\"1\">$  7,785</font></b></td>\n",
       "</tr>\n",
       "<tr>\n",
       "<td align=\"left\" height=\"10\" valign=\"BOTTOM\" width=\"4%\"><font face=\"Verdana, Arial, Geneva\" size=\"1\">  </font></td>\n",
       "<td align=\"left\" height=\"10\" valign=\"BOTTOM\" width=\"1%\"><font face=\"Verdana, Arial, Geneva\" size=\"1\">  </font></td>\n",
       "<td align=\"left\" colspan=\"8\" height=\"10\" valign=\"BOTTOM\">\n",
       "<hr color=\"#000000\" noshade=\"\" size=\"3\"/>\n",
       "</td>\n",
       "</tr>\n",
       "<tr>\n",
       "<td align=\"left\" height=\"10\" valign=\"BOTTOM\" width=\"4%\"><font face=\"Verdana, Arial, Geneva\" size=\"1\">  </font></td>\n",
       "<td align=\"left\" height=\"10\" valign=\"BOTTOM\" width=\"1%\"><font face=\"Verdana, Arial, Geneva\" size=\"1\">  </font></td>\n",
       "<td align=\"left\" colspan=\"3\" height=\"10\" valign=\"BOTTOM\" width=\"58%\"><font face=\"Verdana, Arial, Geneva\" size=\"1\">Earnings per share<sup>1</sup>:</font></td>\n",
       "<td align=\"right\" height=\"10\" valign=\"BOTTOM\" width=\"15%\"><font face=\"Verdana, Arial, Geneva\" size=\"1\">  </font></td>\n",
       "<td align=\"right\" height=\"10\" valign=\"BOTTOM\" width=\"1%\"><font face=\"Verdana, Arial, Geneva\" size=\"1\">  </font></td>\n",
       "<td align=\"right\" height=\"10\" valign=\"BOTTOM\" width=\"15%\"><font face=\"Verdana, Arial, Geneva\" size=\"1\">  </font></td>\n",
       "<td align=\"right\" height=\"10\" valign=\"BOTTOM\" width=\"1%\"><font face=\"Verdana, Arial, Geneva\" size=\"1\">  </font></td>\n",
       "<td align=\"right\" height=\"10\" valign=\"BOTTOM\" width=\"15%\"><b><font face=\"Verdana, Arial, Geneva\" size=\"1\">  </font></b></td>\n",
       "</tr>\n",
       "<tr>\n",
       "<td align=\"left\" height=\"10\" valign=\"BOTTOM\" width=\"4%\"><font face=\"Verdana, Arial, Geneva\" size=\"1\">  </font></td>\n",
       "<td align=\"left\" height=\"10\" valign=\"BOTTOM\" width=\"1%\"><font face=\"Verdana, Arial, Geneva\" size=\"1\">  </font></td>\n",
       "<td align=\"left\" height=\"10\" valign=\"BOTTOM\" width=\"4%\"><font face=\"Verdana, Arial, Geneva\" size=\"1\">  </font></td>\n",
       "<td align=\"left\" colspan=\"2\" height=\"10\" valign=\"BOTTOM\" width=\"54%\"><font face=\"Verdana, Arial, Geneva\" size=\"1\">  </font></td>\n",
       "<td align=\"right\" height=\"10\" valign=\"BOTTOM\" width=\"15%\"><font face=\"Verdana, Arial, Geneva\" size=\"1\">  </font></td>\n",
       "<td align=\"right\" height=\"10\" valign=\"BOTTOM\" width=\"1%\"><font face=\"Verdana, Arial, Geneva\" size=\"1\">  </font></td>\n",
       "<td align=\"right\" height=\"10\" valign=\"BOTTOM\" width=\"15%\"><font face=\"Verdana, Arial, Geneva\" size=\"1\">  </font></td>\n",
       "<td align=\"right\" height=\"10\" valign=\"BOTTOM\" width=\"1%\"><font face=\"Verdana, Arial, Geneva\" size=\"1\">  </font></td>\n",
       "<td align=\"right\" height=\"10\" valign=\"BOTTOM\" width=\"15%\"><b><font face=\"Verdana, Arial, Geneva\" size=\"1\">  </font></b></td>\n",
       "</tr>\n",
       "<tr>\n",
       "<td align=\"left\" height=\"10\" valign=\"BOTTOM\" width=\"4%\"><font face=\"Verdana, Arial, Geneva\" size=\"1\">  </font></td>\n",
       "<td align=\"left\" height=\"10\" valign=\"BOTTOM\" width=\"1%\"><font face=\"Verdana, Arial, Geneva\" size=\"1\">  </font></td>\n",
       "<td align=\"left\" height=\"10\" valign=\"BOTTOM\" width=\"4%\"><font face=\"Verdana, Arial, Geneva\" size=\"1\">  </font></td>\n",
       "<td align=\"left\" colspan=\"2\" height=\"10\" valign=\"BOTTOM\" width=\"54%\"><font face=\"Verdana, Arial, Geneva\" size=\"1\">Basic</font></td>\n",
       "<td align=\"right\" height=\"10\" valign=\"BOTTOM\" width=\"15%\"><font face=\"Verdana, Arial, Geneva\" size=\"1\">$    0.72</font></td>\n",
       "<td align=\"right\" height=\"10\" valign=\"BOTTOM\" width=\"1%\"><font face=\"Verdana, Arial, Geneva\" size=\"1\">  </font></td>\n",
       "<td align=\"right\" height=\"10\" valign=\"BOTTOM\" width=\"15%\"><font face=\"Verdana, Arial, Geneva\" size=\"1\">$    0.92</font></td>\n",
       "<td align=\"right\" height=\"10\" valign=\"BOTTOM\" width=\"1%\"><font face=\"Verdana, Arial, Geneva\" size=\"1\">  </font></td>\n",
       "<td align=\"right\" height=\"10\" valign=\"BOTTOM\" width=\"15%\"><b><font face=\"Verdana, Arial, Geneva\" size=\"1\">$    1.54</font></b></td>\n",
       "</tr>\n",
       "<tr>\n",
       "<td align=\"left\" height=\"10\" valign=\"BOTTOM\" width=\"4%\"><font face=\"Verdana, Arial, Geneva\" size=\"1\">  </font></td>\n",
       "<td align=\"left\" height=\"10\" valign=\"BOTTOM\" width=\"1%\"><font face=\"Verdana, Arial, Geneva\" size=\"1\">  </font></td>\n",
       "<td align=\"left\" colspan=\"8\" height=\"10\" valign=\"BOTTOM\">\n",
       "<hr color=\"#000000\" noshade=\"\" size=\"3\"/>\n",
       "</td>\n",
       "</tr>\n",
       "<tr>\n",
       "<td align=\"left\" height=\"10\" valign=\"BOTTOM\" width=\"4%\"><font face=\"Verdana, Arial, Geneva\" size=\"1\">  </font></td>\n",
       "<td align=\"left\" height=\"10\" valign=\"BOTTOM\" width=\"1%\"><font face=\"Verdana, Arial, Geneva\" size=\"1\">  </font></td>\n",
       "<td align=\"left\" height=\"10\" valign=\"BOTTOM\" width=\"4%\"><font face=\"Verdana, Arial, Geneva\" size=\"1\">  </font></td>\n",
       "<td align=\"left\" colspan=\"2\" height=\"10\" valign=\"BOTTOM\" width=\"54%\"><font face=\"Verdana, Arial, Geneva\" size=\"1\">Diluted</font></td>\n",
       "<td align=\"right\" height=\"10\" valign=\"BOTTOM\" width=\"15%\"><font face=\"Verdana, Arial, Geneva\" size=\"1\">$    0.66</font></td>\n",
       "<td align=\"right\" height=\"10\" valign=\"BOTTOM\" width=\"1%\"><font face=\"Verdana, Arial, Geneva\" size=\"1\">  </font></td>\n",
       "<td align=\"right\" height=\"10\" valign=\"BOTTOM\" width=\"15%\"><font face=\"Verdana, Arial, Geneva\" size=\"1\">$    0.84</font></td>\n",
       "<td align=\"right\" height=\"10\" valign=\"BOTTOM\" width=\"1%\"><font face=\"Verdana, Arial, Geneva\" size=\"1\">  </font></td>\n",
       "<td align=\"right\" height=\"10\" valign=\"BOTTOM\" width=\"15%\"><b><font face=\"Verdana, Arial, Geneva\" size=\"1\">$    1.42</font></b></td>\n",
       "</tr>\n",
       "<tr>\n",
       "<td align=\"left\" height=\"10\" valign=\"BOTTOM\" width=\"4%\"><font face=\"Verdana, Arial, Geneva\" size=\"1\">  </font></td>\n",
       "<td align=\"left\" height=\"10\" valign=\"BOTTOM\" width=\"1%\"><font face=\"Verdana, Arial, Geneva\" size=\"1\">  </font></td>\n",
       "<td align=\"left\" colspan=\"8\" height=\"10\" valign=\"BOTTOM\">\n",
       "<hr color=\"#000000\" noshade=\"\" size=\"3\"/>\n",
       "</td>\n",
       "</tr>\n",
       "<tr>\n",
       "<td align=\"left\" height=\"10\" valign=\"BOTTOM\" width=\"4%\"><font face=\"Verdana, Arial, Geneva\" size=\"1\">  </font></td>\n",
       "<td align=\"left\" height=\"10\" valign=\"BOTTOM\" width=\"1%\"><font face=\"Verdana, Arial, Geneva\" size=\"1\">  </font></td>\n",
       "<td align=\"left\" height=\"10\" valign=\"BOTTOM\" width=\"4%\"><font face=\"Verdana, Arial, Geneva\" size=\"1\">  </font></td>\n",
       "<td align=\"left\" colspan=\"7\" height=\"10\" valign=\"BOTTOM\" width=\"91%\"><font face=\"Verdana, Arial, Geneva\" size=\"1\">  </font></td>\n",
       "</tr>\n",
       "<tr>\n",
       "<td align=\"left\" height=\"10\" valign=\"BOTTOM\" width=\"4%\"><font face=\"Verdana, Arial, Geneva\" size=\"1\">  </font></td>\n",
       "<td align=\"left\" height=\"10\" valign=\"BOTTOM\" width=\"1%\"><font face=\"Verdana, Arial, Geneva\" size=\"1\">  </font></td>\n",
       "<td align=\"left\" height=\"10\" valign=\"BOTTOM\" width=\"4%\"><font face=\"Verdana, Arial, Geneva\" size=\"1\">  </font></td>\n",
       "<td align=\"left\" colspan=\"7\" height=\"10\" valign=\"BOTTOM\" width=\"91%\"><font face=\"Verdana, Arial, Geneva\" size=\"1\">  </font></td>\n",
       "</tr>\n",
       "<tr>\n",
       "<td align=\"left\" height=\"10\" valign=\"BOTTOM\" width=\"4%\"><font face=\"Verdana, Arial, Geneva\" size=\"1\">  </font></td>\n",
       "<td align=\"left\" height=\"10\" valign=\"BOTTOM\" width=\"1%\"><font face=\"Verdana, Arial, Geneva\" size=\"1\">  </font></td>\n",
       "<td align=\"left\" height=\"10\" valign=\"top\" width=\"4%\"><font face=\"Verdana, Arial, Geneva\" size=\"1\">1</font></td>\n",
       "<td align=\"left\" colspan=\"7\" height=\"10\" valign=\"top\" width=\"91%\"><font face=\"Verdana, Arial, Geneva\" size=\"1\">Earnings per share have been restated to reflect a two-for-one stock split in March 1999.</font></td>\n",
       "</tr>\n",
       "<tr>\n",
       "<td align=\"left\" height=\"10\" valign=\"BOTTOM\" width=\"4%\"><font face=\"Verdana, Arial, Geneva\" size=\"1\">  </font></td>\n",
       "<td align=\"left\" height=\"10\" valign=\"BOTTOM\" width=\"1%\"><font face=\"Verdana, Arial, Geneva\" size=\"1\">  </font></td>\n",
       "<td align=\"left\" height=\"10\" valign=\"BOTTOM\" width=\"4%\"><font face=\"Verdana, Arial, Geneva\" size=\"1\">  </font></td>\n",
       "<td align=\"left\" colspan=\"7\" height=\"10\" valign=\"BOTTOM\" width=\"91%\"><font face=\"Verdana, Arial, Geneva\" size=\"1\">  </font></td>\n",
       "</tr>\n",
       "<tr>\n",
       "<td align=\"left\" height=\"10\" valign=\"BOTTOM\" width=\"4%\"><font face=\"Verdana, Arial, Geneva\" size=\"1\">  </font></td>\n",
       "<td align=\"left\" height=\"10\" valign=\"BOTTOM\" width=\"1%\"><font face=\"Verdana, Arial, Geneva\" size=\"1\">  </font></td>\n",
       "<td align=\"left\" colspan=\"8\" height=\"10\" valign=\"BOTTOM\" width=\"95%\"><font face=\"Verdana, Arial, Geneva\" size=\"1\"><a href=\"/Investor/reports/ar99/notes.htm\">See accompanying notes.</a></font></td>\n",
       "</tr>\n",
       "</table>\n",
       "<table border=\"0\" cellpadding=\"2\" cellspacing=\"3\" width=\"414\">\n",
       "<tr>\n",
       "<td colspan=\"6\">\n",
       "<p align=\"left\"><font face=\"Verdana, Arial, Helvetica\" size=\"1\">\n",
       "<br/>\n",
       "                      View income statement in a local language, currency, and accounting convention:</font>\n",
       "</p></td>\n",
       "</tr>\n",
       "<tr>\n",
       "<td align=\"center\" bgcolor=\"#CCFFCC\" bordercolor=\"#99CC99\" valign=\"top\" width=\"14%\"><font face=\"Verdana, Arial, Helvetica\" size=\"1\"><a href=\"/Investor/reports/ar99/alt_aust.htm\">Australian</a></font></td>\n",
       "<td align=\"center\" bgcolor=\"#CCFFCC\" bordercolor=\"#99CC99\" valign=\"top\" width=\"14%\"><font face=\"Verdana, Arial, Helvetica\" size=\"1\"><a href=\"/Investor/reports/ar99/alt_canada.htm\">Canadian</a></font></td>\n",
       "<td align=\"center\" bgcolor=\"#CCFFCC\" bordercolor=\"#99CC99\" valign=\"top\" width=\"14%\"><font face=\"Verdana, Arial, Helvetica\" size=\"1\"><a href=\"/Investor/reports/ar99/alt_german.htm\">Deutsch</a></font></td>\n",
       "<td align=\"center\" bgcolor=\"#CCFFCC\" bordercolor=\"#99CC99\" valign=\"top\" width=\"14%\"><font face=\"Verdana, Arial, Helvetica\" size=\"1\"><a href=\"/Investor/reports/ar99/alt_french.htm\">Français</a></font></td>\n",
       "<td align=\"center\" bgcolor=\"#CCFFCC\" valign=\"top\" width=\"14%\"><a href=\"/Investor/reports/ar99/alt_japan.htm\"><font face=\"Verdana, Arial, Helvetica\" size=\"1\"><img alt=\"japanese\" border=\"0\" height=\"15\" src=\"/Investor/images/jap.gif\" width=\"46\"/></font></a></td>\n",
       "<td align=\"center\" bgcolor=\"#CCFFCC\" bordercolor=\"#99CC99\" valign=\"top\" width=\"14%\"><font face=\"Verdana, Arial, Helvetica\" size=\"1\"><a href=\"/Investor/reports/ar99/alt_uk.htm\">UK</a></font></td>\n",
       "</tr>\n",
       "</table>\n",
       "</td>\n",
       "</tr>\n",
       "<tr>\n",
       "<td align=\"left\" valign=\"top\" width=\"15\"></td>\n",
       "<td align=\"left\" valign=\"bottom\" width=\"400\">\n",
       "<p> </p>\n",
       "<p><font face=\"Verdana, Arial, Geneva\" size=\"1\">&gt;&gt;  <b>Download Microsoft Excel files    </b>&lt;&lt;  </font> <br/>\n",
       "<a href=\"http://download.microsoft.com/download/4/A/9/4A9500B6-2B69-4B40-B161-55504BC549D5/msft-income99.XLS\"><font face=\"Verdana, Arial, Geneva\" size=\"1\">Income Statements (38Kb)</font></a><font face=\"Verdana, Arial, Geneva\" size=\"1\"><br/>\n",
       "<a href=\"/Investor/download/historypivot.xls\">Financial History PivotTable (115Kb)</a><br/>\n",
       "<a href=\"/Investor/download/fy2000whatif.xls\">FY 2000 Microsoft \"What If?\" (69Kb)</a></font>\n",
       "</p>\n",
       "<p align=\"left\"><font face=\"Verdana, Arial, Geneva\" size=\"1\">Last updated <!--webbot bot=\"Timestamp\" S-Type=\"EDITED\" S-Format=\"%B %d, %Y\" startspan -->May 28, 2010<!--webbot bot=\"Timestamp\" endspan i-checksum=\"11241\" --></font></p>\n",
       "<p align=\"left\"><font face=\"Verdana, Arial, Geneva\" size=\"1\"><a href=\"http://www.microsoft.com/info/cpyright.htm\"> 2000 Microsoft Corporation. All Rights Reserved. Terms of Use.</a> </font></p>\n",
       "<p align=\"left\"><font face=\"Verdana, Arial, Geneva\" size=\"1\">  </font>\n",
       "</p></td>\n",
       "</tr>\n",
       "<tr>\n",
       "<td align=\"left\" colspan=\"2\" valign=\"top\">\n",
       "<table border=\"0\" cellpadding=\"0\" cellspacing=\"0\" width=\"100%\">\n",
       "<tr>\n",
       "<td align=\"RIGHT\" width=\"33%\"><a href=\"/Investor/reports/ar99/highlights.htm\" onmouseout=\"turnOff()\" onmouseover=\"turnOn()\"><img alt=\"BACK\" border=\"0\" height=\"29\" src=\"/Investor/reports/ar99/images/back.jpg\" width=\"34\"/></a></td>\n",
       "<td align=\"CENTER\" width=\"33%\"><a href=\"#top\" onmouseout=\"turnOff()\" onmouseover=\"turnOn()\"><img alt=\"TOP\" border=\"0\" height=\"29\" src=\"/Investor/reports/ar99/images/top.jpg\" width=\"27\"/></a></td>\n",
       "<td align=\"LEFT\" width=\"33%\"><a href=\"/Investor/reports/ar99/alternate.htm\" onmouseout=\"turnOff()\" onmouseover=\"turnOn()\"><img alt=\"FWD\" border=\"0\" height=\"29\" src=\"/Investor/reports/ar99/images/fwd.jpg\" width=\"35\"/></a></td>\n",
       "<tr>\n",
       "<td align=\"RIGHT\" width=\"33%\"><font face=\"Verdana, Arial, Geneva\" size=\"1\">  </font></td>\n",
       "<td align=\"CENTER\" width=\"33%\"><font face=\"Verdana, Arial, Geneva\" size=\"1\">  </font></td>\n",
       "<td align=\"LEFT\" width=\"33%\"><font face=\"Verdana, Arial, Geneva\" size=\"1\">  </font></td>\n",
       "</tr>\n",
       "</tr></table>\n",
       "</td>\n",
       "</tr>\n",
       "</table>\n",
       "</body>\n",
       "</html>"
      ]
     },
     "execution_count": 3,
     "metadata": {},
     "output_type": "execute_result"
    }
   ],
   "source": [
    "soup = BeautifulSoup(content.text, 'html.parser')\n",
    "soup"
   ]
  },
  {
   "cell_type": "code",
   "execution_count": null,
   "metadata": {},
   "outputs": [],
   "source": [
    " table = soup.find_all('table')[2] # Grab the first table"
   ]
  },
  {
   "cell_type": "code",
   "execution_count": null,
   "metadata": {},
   "outputs": [],
   "source": [
    "table"
   ]
  },
  {
   "cell_type": "code",
   "execution_count": null,
   "metadata": {},
   "outputs": [],
   "source": [
    "new_table = pd.DataFrame(columns=range(0,2), index = [0]) # I know the size \n",
    "row_marker = 0\n",
    "for row in table.find_all('tr'):\n",
    "    column_marker = 0\n",
    "    columns = row.find_all('td')\n",
    "    for column in columns:\n",
    "        new_table.iat[row_marker,column_marker] = column.get_text()\n",
    "        column_marker += 1\n",
    "new_table"
   ]
  },
  {
   "cell_type": "code",
   "execution_count": null,
   "metadata": {},
   "outputs": [],
   "source": [
    "new_table.values"
   ]
  },
  {
   "cell_type": "code",
   "execution_count": null,
   "metadata": {},
   "outputs": [],
   "source": []
  },
  {
   "cell_type": "code",
   "execution_count": null,
   "metadata": {},
   "outputs": [],
   "source": []
  }
 ],
 "metadata": {
  "kernelspec": {
   "display_name": "Python 3",
   "language": "python",
   "name": "python3"
  },
  "language_info": {
   "codemirror_mode": {
    "name": "ipython",
    "version": 3
   },
   "file_extension": ".py",
   "mimetype": "text/x-python",
   "name": "python",
   "nbconvert_exporter": "python",
   "pygments_lexer": "ipython3",
   "version": "3.7.4"
  }
 },
 "nbformat": 4,
 "nbformat_minor": 2
}
